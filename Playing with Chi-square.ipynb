{
 "cells": [
  {
   "cell_type": "markdown",
   "metadata": {},
   "source": [
    "This is some code exploring the $\\chi^2$ distribution.\n",
    "\n",
    "First we'll talk about what this distribution is, where it comes from and what it looks like. Then we'll talk about where it's useful (with some examples). This is all gearing up to explore what Cramers V is.\n",
    "\n",
    "Note: should have a table of contents here!\n",
    "\n",
    "\n",
    "In short the $\\chi^2$ distribution is the a sum of independant  squared standard normal random variables, where the parameter (degrees of freedom) is determined by the number of independent squared normal random variables that make up the sum.\n",
    "\n",
    "To expand on that, Let's consider a $\\chi^2_1$ distibution (the chi square with one degree of freedom)\n",
    "\n",
    "Say we have $X \\sim N(0,1)$"
   ]
  },
  {
   "cell_type": "code",
   "execution_count": 22,
   "metadata": {},
   "outputs": [
    {
     "data": {
      "image/png": "[encoded data removed]",
      "text/plain": [
       "<Figure size 432x288 with 1 Axes>"
      ]
     },
     "metadata": {},
     "output_type": "display_data"
    }
   ],
   "source": [
    "%matplotlib inline\n",
    "\n",
    "# As some practice I'm going to sample some points from a normal distrubution\n",
    "# Ideally I would sample from the normal using uniform (as I learned in 1690) but due to time constraints I'm gonna use an existing function\n",
    "\n",
    "import numpy as np\n",
    "import matplotlib.pyplot as plt\n",
    "\n",
    "sampleX = np.random.normal(0,1,1000)\n",
    "plt.hist(sampleX) # I'd like to tinker with the bin sizes at some point\n",
    "plt.show()\n",
    "\n",
    "#To illustrate these are samples from a distribution I should divide the height of each bar by the total number of data points, then add the target distrubtion (and maybe have thinner bars)"
   ]
  },
  {
   "cell_type": "markdown",
   "metadata": {},
   "source": [
    "Take $Q = X^2$\n",
    "then $Q \\sim \\chi^2_1$"
   ]
  },
  {
   "cell_type": "code",
   "execution_count": 21,
   "metadata": {
    "scrolled": true
   },
   "outputs": [
    {
     "data": {
      "image/png": "[encoded data removed]",
      "text/plain": [
       "<Figure size 432x288 with 1 Axes>"
      ]
     },
     "metadata": {},
     "output_type": "display_data"
    }
   ],
   "source": [
    "plt.hist(sampleX**2)\n",
    "plt.show()\n",
    "\n",
    "# I should have examples of different degrees of freedom (ideally a switch too)"
   ]
  },
  {
   "cell_type": "markdown",
   "metadata": {},
   "source": [
    "One of the uses is a \"goodness of fit\" use, where there is some "
   ]
  },
  {
   "cell_type": "code",
   "execution_count": null,
   "metadata": {},
   "outputs": [],
   "source": []
  },
  {
   "cell_type": "code",
   "execution_count": null,
   "metadata": {},
   "outputs": [],
   "source": []
  },
  {
   "cell_type": "code",
   "execution_count": null,
   "metadata": {},
   "outputs": [],
   "source": []
  },
  {
   "cell_type": "code",
   "execution_count": null,
   "metadata": {},
   "outputs": [],
   "source": []
  },
  {
   "cell_type": "code",
   "execution_count": null,
   "metadata": {},
   "outputs": [],
   "source": []
  },
  {
   "cell_type": "markdown",
   "metadata": {},
   "source": [
    "Sources:\n",
    "\n",
    "Khan Academy - Chi-square distribution introuction\n",
    "Khan Academy - Pearson Chi square test (goodness of fit)"
   ]
  }
 ],
 "metadata": {
  "kernelspec": {
   "display_name": "Python 3",
   "language": "python",
   "name": "python3"
  },
  "language_info": {
   "codemirror_mode": {
    "name": "ipython",
    "version": 3
   },
   "file_extension": ".py",
   "mimetype": "text/x-python",
   "name": "python",
   "nbconvert_exporter": "python",
   "pygments_lexer": "ipython3",
   "version": "3.6.5"
  }
 },
 "nbformat": 4,
 "nbformat_minor": 2
}
